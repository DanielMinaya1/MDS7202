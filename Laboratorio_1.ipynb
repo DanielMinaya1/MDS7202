{
 "cells": [
  {
   "cell_type": "markdown",
   "metadata": {
    "cell_id": "097fce6dce21405c911254a775ae3d26",
    "deepnote_cell_type": "markdown",
    "id": "J4_IcuuKZj9Y"
   },
   "source": [
    "<h1><center>Laboratorio 1: Git 👾</center></h1>\n",
    "\n",
    "<center><strong>MDS7202: Laboratorio de Programación Científica para Ciencia de Datos - Primavera 2023</strong></center>"
   ]
  },
  {
   "cell_type": "markdown",
   "metadata": {
    "cell_id": "9e8e8f2ae34e461da4f44508a96d2cf4",
    "deepnote_cell_type": "markdown",
    "id": "AEXIACc7aADv"
   },
   "source": [
    "### Cuerpo Docente:\n",
    "\n",
    "- Profesores: Ignacio Meza, Gabriel Iturra\n",
    "- Auxiliar: Sebastián Tinoco\n",
    "- Ayudante: Arturo Lazcano, Angelo Muñoz"
   ]
  },
  {
   "cell_type": "markdown",
   "metadata": {
    "cell_id": "3e5b48c23e1b48f6a64de41899166179",
    "deepnote_cell_type": "markdown",
    "id": "0HgMMyoCaG8X"
   },
   "source": [
    "### Equipo: SUPER IMPORTANTE - notebooks sin nombre no serán revisados\n",
    "\n",
    "- Nombre de alumno 1: Daniel Minaya Vargas\n",
    "- Nombre de alumno 2:"
   ]
  },
  {
   "cell_type": "markdown",
   "metadata": {
    "cell_id": "1db7c82b68614d19b112ba3b0d0abe4d",
    "deepnote_cell_type": "markdown",
    "id": "fz77X6glaK6y"
   },
   "source": [
    "### **Link de repositorio de GitHub:** `...`"
   ]
  },
  {
   "cell_type": "markdown",
   "metadata": {
    "cell_id": "bc3dac65089d4ae6a43c079547dee179",
    "deepnote_cell_type": "markdown",
    "id": "rRwqaxIZaNx3"
   },
   "source": [
    "## Reglas:\n",
    "\n",
    "- Fecha de entrega: 6 días desde la publicación, 3 días de atraso con 1 punto de descuento c/u. Pueden utilizar días bonus sin descuento.\n",
    "- **Grupos de 2 personas**\n",
    "- Asistencia **obligatoria** a instrucciones del lab (viernes 16.15). Luego, pueden quedarse trabajando en las salas o irse.\n",
    "- **Ausentes tienen nota máxima 6.0**.  \n",
    "- Cualquier duda fuera del horario de clases al foro. Mensajes al equipo docente serán respondidos por este medio.\n",
    "- <u>Prohibidas las copias</u>. Cualquier intento de copia será debidamente penalizado con el reglamento de la escuela.\n",
    "- Pueden usar cualquer material del curso que estimen conveniente.\n",
    "- Asistencia obligatoria a instrucciones del lab (viernes 16.15). Luego, pueden quedarse trabajando en las salas o irse."
   ]
  },
  {
   "cell_type": "markdown",
   "metadata": {
    "cell_id": "05e4729411a24153837fd13b7f198bd9",
    "deepnote_cell_type": "markdown",
    "id": "bmToL27JaSrf"
   },
   "source": [
    "## Objetivos del lab:\n",
    "\n",
    "\n",
    "- Conocer los elementos básicos que conformar `Git`\n",
    "- Clonar repositorios\n",
    "- Identificar ramas de un repositorio\n",
    "- Reconocer y solucionar problemas entre ramas\n",
    "- Subir cambios a un repositorio"
   ]
  },
  {
   "cell_type": "markdown",
   "metadata": {
    "cell_id": "5ebae9d601bd4d508349ab55297e9f82",
    "deepnote_cell_type": "markdown",
    "id": "bvnPCvrVbJLK"
   },
   "source": [
    "## Parte 1: Conocimiento Teórico (2.5 pts)\n",
    "\n",
    "<p align=\"center\">\n",
    "  <img src=\"https://cdn.thedesigninspiration.com/wp-content/uploads/sites/3/2019/04/macintosh-hdusersbrittanyloefflerdownloadsanig-1.gif\" width=\"350\">\n",
    "</p>"
   ]
  },
  {
   "cell_type": "markdown",
   "metadata": {
    "cell_id": "627494dba4f84520b3ee8b9cbf58ee79",
    "deepnote_cell_type": "markdown",
    "id": "JHl-24XnbNLF"
   },
   "source": [
    "Responda las siguientes preguntas (0.2 pts c/u):\n",
    "\n",
    "1. ¿Qué es `Git` y cómo se relaciona con el control de versiones?\n",
    "\n",
    "2. Nombre y explique 3 diferencias entre `Git` y `Github`.\n",
    "\n",
    "3. ¿Qué es un `hash` y cómo se representa en un `commit`? De un ejemplo.\n",
    "\n",
    "4. ¿Que elementos componen a la estructura de datos de `Git`?\n",
    "\n",
    "5. ¿Que comandos de `Git` sirven para crear un repositorio y hacer seguimiento a cambios en los archivos?"
   ]
  },
  {
   "cell_type": "markdown",
   "metadata": {
    "cell_id": "6d06c40f429044a298b27c666f51f46f",
    "deepnote_cell_type": "markdown",
    "id": "2tXCSkf0caG8"
   },
   "source": [
    "<code>Escriba sus respuestas acá:</code>\n",
    "\n",
    "1. Un sistema de control de versiones (VCS) es un sistema que permita llevar un registro de cambios realizados sobre un conjunto de archivos (repositorio). Git es un sistema de control de versiones distribuido (DVCS), es decir, es un VCS que además permite replicar completamente un repositorio almacenado en la nube, y permite trabajar en ramas paralelas (branches) lo que posibilita varios flujos de trabajo.\n",
    "\n",
    "2. Github es un servicio de almacenamiento en la nube, mientras que Git es un sistema de control de versiones. Git es una herramienta de línea de comando, mientras que Github posee una interfaz gráfica. Por último, Git es capaz de crear repositorios locales para mantener registros de los archivos locales, mientras que Github está basado en la web, en el cual se pueden subir copias de estos repositorios locales.\n",
    "\n",
    "3. Un hash es un identificador que permite a Git compartir información entre repositorios de manera eficiente. En general poseen 40 caracteres pero basta con los primeros caracteres para identificar un commit. Por ejemplo, en el repositorio https://github.com/DanielMinaya1/MDS7202 vemos un commit con hash <code>20633d5963b618858929e512bdf130cc18eeb7f6</code>, es decir, se puede acceder al commit mediante la url https://github.com/DanielMinaya1/MDS7202/commit/20633d5963b618858929e512bdf130cc18eeb7f6, mientras que en Github se muestra <code>20633d5</code>, que son solo los primeros caracteres para identificarlo. Ejecutando <code>git log</code> es posible ver la estructura de un commit, donde se ve el autor del commit, momento en el que se realizó la modificación y el hash identificador del cambio.\n",
    "\n",
    "4. Los elementos principales que componen a la estructura de datos de Git son: **el blob**, que almacena el contenido de un archivo en ese momento, es decir no se modifican una vez creados, de modo que la modificación del archivo lleva a la creación de otro blob; **un árbol**, que funciona como directorios para almacenar los blobs y otro sub-árboles, formando así una estructura jerárquica reflejando la organización del repositorio; **el commit**, que representa los cambios realizados en los archivos, formando así una secuencia que registra el historial de cambios.\n",
    "\n",
    "5. Para crear un repositorio local basta escribir el comando <code>git init nombre_repo</code> y en el caso de querer clonar un repositorio almacenado en Github basta escribir el comando <code>git clone ruta_repo.git</code>. Para hacer un seguimiento a cambios en los archivos basta ejecutar el comando <code>git status</code>, que nos permite ver el estado de los archivos, en el sentido de si han sido modificados, están siendo seguidos, etc."
   ]
  },
  {
   "cell_type": "markdown",
   "metadata": {
    "cell_id": "ec9855406e324cc98b59e33500faea84",
    "deepnote_cell_type": "markdown",
    "id": "MACccbP4gU43"
   },
   "source": [
    "Responda si las siguientes afirmaciones son Verdaderas (V) o Falsas (F). Justifique en **cualquiera** de los casos (0.2 pts c/u):\n",
    "\n",
    "6. `Git` siempre resuelve automáticamente los problemas de lineas al hacer merge entre diferentes ramas.\n",
    "\n",
    "7. Ejecutar `git pull` sobre un repositorio es equivalente a ejecutar `git clone`.\n",
    "\n",
    "8. `git status` genera los mismos resultados que `git log`.\n",
    "\n",
    "9. En `Git` es posible deshacer cambios y volver a versiones anteriores del código.\n",
    "\n",
    "10. El comando `git commit` se utiliza para enviar cambios al repositorio remoto."
   ]
  },
  {
   "cell_type": "markdown",
   "metadata": {
    "cell_id": "7e6a5a6e15b045cc9d104cf017825f1a",
    "deepnote_cell_type": "markdown",
    "id": "DFnmCToOgeM3"
   },
   "source": [
    "<code>Escriba sus respuestas acá:</code>\n",
    "\n",
    "6. No, es posible que ocurran colisiones en las modificaciones realizadas sobre un archivo, por ejemplo, en el caso de que se modifique la misma sección de código de manera diferente en las ramas a combinar. En estos casos Git muestra el error como <code>CONFLICT (content) Merge conflict in file.py</code>. Estos problemas deben ser resueltos manualmente.\n",
    "\n",
    "7. No, el comando <code>git clone</code> permite crear una copia completa de un repositorio remoto en un nuevo directorio local. Esta copia es una réplica exacta, en el sentido de que también se transfieren el historial de cambios y todas las ramas. Por otro lado, el comando <code<>git pull</code> se utiliza para actualizar la información de un repositorio remoto en el repositorio local (ya creado) combinando los cambios mediante un <code>merge</code>.\n",
    "\n",
    "8. No, el comando <code>git status</code> muestra el estado actual del repositorio, entregando información sobre los archivos modificados, cambios no commiteados, o archivos en el staging area. Por otro lado <code>git log</code> muestra el historial de commits del repositorio.\n",
    "\n",
    "9. Sí, es posible deshacer cambios y volver a versiones anteriores mediante el comando <code>git checkout</code> y se pueden eliminar archivos del staging area mediante el comando <code>git reset</code>.\n",
    "\n",
    "10. No, en el caso de que estemos trabajando en un repositorio local los commit solo registraremos los cambios en ese repositorio. Para enviar los cambios al repositorio remoto es necesario ejecutar <code>git push</code>."
   ]
  },
  {
   "cell_type": "markdown",
   "metadata": {
    "cell_id": "54317cad024744ebaf4938df55ba3b95",
    "deepnote_cell_type": "markdown"
   },
   "source": [
    "Por último, investigue y comente para qué sirven los siguientes comandos:\n",
    "\n",
    "11. `git stash` (0.25 puntos)\n",
    "12. `git reset`. ¿Cuál es la diferencia de este comando con `git revert`?. (0.25 puntos)"
   ]
  },
  {
   "cell_type": "markdown",
   "metadata": {},
   "source": [
    "<code>Escriba sus respuestas acá:</code>\n",
    "\n",
    "11. El comando <code>git stash</code> se utiliza cuando se quieren guardan temporalmente los cambios actuales del repositorio sin tener que hacer un commit, como si fuese un borrador de los cambios que se quieren realizar en el futuro, ya sea porque no es necesario realizar un commit debido a pequeños cambios o todavía no se han realizado todos los cambios esperados. Esto también puede ser útil para resolver conflictos en ciertas rama sin necesidad de realizar un commit.\n",
    "\n",
    "12. El comando <code>git reset</code> se utiliza para deshacer los cambios realizado a un commit específico, descartando los cambios posteriores a ese commit, es decir, permite volver a una versión anterior de los archivos. El comando <code>git revert</code> se utiliza para crear un nuevo commit que deshace los cambios introducidos por un commit específico, es decir, se revierten los cambios realizados a una versión anterior manteniendo registro de este revertimiento, de forma que se puedan deshacer cambios sin eliminar el historial de commits."
   ]
  },
  {
   "cell_type": "markdown",
   "metadata": {
    "cell_id": "3e4d8b9974e4426ca38fd20f4b835a55",
    "deepnote_cell_type": "markdown",
    "id": "i7Em9JkbbRLo"
   },
   "source": [
    "## Parte 2: Creando una presentación personal (1.5 pts)\n",
    "\n",
    "<p align=\"center\">\n",
    "  <img src=\"https://media.tenor.com/arqlNu8gyJYAAAAC/cat-cat-jumping.gif\" width=\"150\">\n",
    "</p>\n",
    "\n"
   ]
  },
  {
   "cell_type": "markdown",
   "metadata": {
    "cell_id": "988648005dba4b9782c6625dfe6ae4ef",
    "deepnote_cell_type": "markdown",
    "id": "XWIHfyrlbYOJ"
   },
   "source": [
    "Para empezar a \"*soltar las manos*\" con `Git`, se les encomienda crear un repositorio con una presentación personal. El repositorio debe contener un breve resumen de quienes son ustedes, sus gustos, experiencias, y cualquier otro detalle interesante que ustedes consideren relevante. \n",
    "\n",
    "Para realizar esto, deben seguir los siguientes pasos:\n",
    "\n",
    "1. Contar con una cuenta de github (1 por persona)\n",
    "2. Crear un repositorio con su nombre de usuario\n",
    "3. Vincular el repositorio a su ambiente local ¿Qué comando(s) me permiten hacer esto?\n",
    "    <code>git clone https://github.com/DanielMinaya1/DanielMinaya1.git</code>\n",
    "4. Crear un archivo `readme.md` con la información que ustedes deseen compartir.\n",
    "5. Realizar `push` con los cambios generados\n",
    "\n",
    "A modo de ejemplo, pueden guiarse por esta *suculenta* [presentación](https://github.com/Mezosky)\n",
    "\n",
    "**Nota: Deben trabajar todos estos puntos desde su ambiente local**\n",
    "\n",
    "*Hint: Una buena opción es usar templates de presentación personal que encuentren en Google, como los que ofrece este [sitio](https://durgeshsamariya.github.io/awesome-github-profile-readme-templates/#/)*.\n",
    "\n",
    "**Entregable:**\n",
    "\n",
    "Enlace al repositorio con la presentación personal. \n",
    "\n",
    "IMPORTANTE: DEBEN ADJUNTAR UN ENLACE POR PERSONA"
   ]
  },
  {
   "cell_type": "markdown",
   "metadata": {
    "cell_id": "081b38d55dc54282bc8e3cd300ce9d3e",
    "deepnote_cell_type": "markdown",
    "id": "IIkWyl9tf0Sg"
   },
   "source": [
    "<code>Link Presentacion 1:</code> https://github.com/DanielMinaya1\n",
    "\n",
    "<code>Link Presentacion 2:</code>"
   ]
  },
  {
   "cell_type": "markdown",
   "metadata": {
    "cell_id": "0481a05d2d1a46928f6cfb7762720980",
    "deepnote_cell_type": "markdown",
    "id": "CAzXOwvDY-IG"
   },
   "source": [
    "## Parte 3: Trabajando sobre un repositorio externo (2 pts)\n",
    "\n",
    "<p align=\"center\">\n",
    "  <img src=\"https://media.tenor.com/YXL-0SK15j4AAAAC/dance-animals.gif\" width=\"300\">\n",
    "</p>\n",
    "\n",
    "Tras muchos dolores de cabeza, un grupo de entusiastas académicos decidieron aprender sobre `Git` y así trabajar colaborativamente de forma más ordenada y eficiente. Después de una infinidad de intentos y aprender de sus errores \"*a la mala*\", los académicos lograron levantar un [repositorio](https://github.com/MDS7202/lab1) en `Github`. Usando el repositorio de los académicos, responda las siguientes preguntas (**incluya también los comandos en `Git` ocupados**):\n"
   ]
  },
  {
   "cell_type": "markdown",
   "metadata": {
    "cell_id": "bcef73b2e8604579bde90ed6622abfe9",
    "deepnote_cell_type": "markdown",
    "id": "BFRnAw0rfguR"
   },
   "source": [
    "1. Clone el repositorio a su ambiente local. (0.25 pts)"
   ]
  },
  {
   "cell_type": "markdown",
   "metadata": {
    "cell_id": "5d126ac3819c44479af94d3895bc4c97",
    "deepnote_cell_type": "markdown",
    "id": "KXro32yBeilN"
   },
   "source": [
    "<code>Escriba sus respuestas acá:</code>\n",
    "\n",
    "Para clonar el repositorio de Github, vamos a Code y copiamos la ruta que aparece ahí, en este caso, https://github.com/MDS7202/lab1.git, luego accedemos a la consola (de Windows en mi caso) en el lugar donde queramos alojar el repositorio de manera local. Una vez ahí, ejecutamos el comando \n",
    "\n",
    "<center><code>git clone https://github.com/MDS7202/lab1.git</code></center>\n",
    "\n",
    "y se creará el repositorio llamado lab1. Para lo que sigue deberemos estar en el repositorio, al cual accedemos luego de ejecutar\n",
    "\n",
    "<center><code>cd lab1</code></center>"
   ]
  },
  {
   "cell_type": "markdown",
   "metadata": {
    "cell_id": "e215e4e25b2440f09ac273ba63603986",
    "deepnote_cell_type": "markdown"
   },
   "source": [
    "2. Descomprima los archivos subidos con la tarea en U-cursos en la carpeta recién clonada de github. Una vez realizado esto, cree un archivo `.gitignore` con el cual omita la carpeta `videos` y los archivos con la extensión `.txt` exceptuando el archivo `171.txt` de la carpeta `texts`. (0.25 pts)"
   ]
  },
  {
   "cell_type": "markdown",
   "metadata": {
    "cell_id": "186233b44d004e3bbd86262d010188b5",
    "deepnote_cell_type": "markdown"
   },
   "source": [
    "<code>Para esta pregunta usted deberá adjuntar el .gitignore creado en su repo.</code>\n",
    "\n",
    "https://github.com/DanielMinaya1/MDS7202/commit/61a50a1b7f4fb851855ed3e7ad5442b2718fed3a"
   ]
  },
  {
   "cell_type": "markdown",
   "metadata": {
    "cell_id": "1de150590a41484a988b8e46616a2324",
    "deepnote_cell_type": "markdown",
    "id": "q2qmiDyjt2M_"
   },
   "source": [
    "3. Inspeccione brevemente el repositorio: ¿Cual es el objetivo del proyecto? Explique brevemente la estructura del proyecto, asi como también cada elemento que lo conforma. (0.25 pts)"
   ]
  },
  {
   "cell_type": "markdown",
   "metadata": {
    "cell_id": "082ca01c865e48e28352b280400c47b6",
    "deepnote_cell_type": "markdown",
    "id": "aBHpR8VTftkT"
   },
   "source": [
    "<code>Escriba sus respuestas acá:</code>\n",
    "\n",
    "El objetivo del proyecto es emular el sonido de animales, de momento solo se reconocen el gato, el perro y el zorro. El repositorio consta de tres ramas: la principal (main), una donde se realizan las actualizaciones (new_features) y otro relacionada a soluciona fallos (fix-ifs).\n",
    "\n",
    "En cada ramo se tienen dos archivos .py, uno donde se definen las funciones necesarias, es decir, un módulo de Python (animales.py), y otra llamada main.py, que es el programa que recibe el animal para saber su sonido. Esto no ocurre en la rama fix-ifs, donde todo está en un solo archivo py."
   ]
  },
  {
   "cell_type": "markdown",
   "metadata": {
    "cell_id": "3aab4a3ee0c246e1be955680ad653fb8",
    "deepnote_cell_type": "markdown",
    "id": "XFwqcpLZfylf"
   },
   "source": [
    "4. Identifique los últimos cambios al repositorio, reconociendo las principales ramas de trabajo. ¿Son informativos los `commit` realizados? (0.25 pts)\n",
    "*Hint: Se recomienda usar los argumentos `all`, `graph` y `decorate`*"
   ]
  },
  {
   "cell_type": "markdown",
   "metadata": {
    "cell_id": "0fab79a360ac4c6a9ca0ab884f85c7e1",
    "deepnote_cell_type": "markdown",
    "id": "cmWfXBkOhog0"
   },
   "source": [
    "<code>Escriba sus respuestas acá:</code>\n",
    "\n",
    "Ejecutando el comando <code>git log --all --decorate --graph</code> se pueden ver cuatro commits realizados. \n",
    "\n",
    "El primero realizado por seba, el 22 de marzo, que se llama \"primer commit\", el cual no es muy informativo, pero posiblemente sea la creación del repositorio. \n",
    "\n",
    "El segundo commit también fue realizado por seba, el 22 de marzo, que se llama \"se agrega funcion\", el cual es algo informativo, pero no especifica el nombre de la función agregada, podría ser cambiado por algo como \"se agrega función animales\". \n",
    "\n",
    "El tercer commit fue realizado por Pablo Badilla, el 23 de marzo, que se llama \"fix ifs\", el cual hace referencia a la creación de la rama con el mismo nombre.\n",
    "\n",
    "El último commit fue realizado por mezosky, el 23 de marzo, que se llama \"se separa el proyecto en modulos\", el cual hace referencia a la creación de la otra rama new_features, y posiblemente a la creación de los archivos animales.py y main.py."
   ]
  },
  {
   "cell_type": "markdown",
   "metadata": {
    "cell_id": "d07b24d21f2343fb9a7e6a5db74e98c3",
    "deepnote_cell_type": "markdown",
    "id": "Vqbj9HdXrUnN"
   },
   "source": [
    "5. Uno de los académicos se da cuenta que la rama principal de trabajo no se ejecuta correctamente para todos los argumentos. Señale y explique el error en el código e identifique a la persona que lo cometió usando `git blame` (0.25 pts)\n",
    "\n",
    "*Hint: Le puede ser útil esta [documentación](https://www.atlassian.com/es/git/tutorials/inspecting-a-repository/git-blame).*"
   ]
  },
  {
   "cell_type": "markdown",
   "metadata": {
    "cell_id": "bc5b0f9c639643108f8e66687b721732",
    "deepnote_cell_type": "markdown",
    "id": "5ajhV2Iar3tV"
   },
   "source": [
    "<code>Escriba sus respuestas acá:</code>\n",
    "\n",
    "El error ocurre en el archivo <code>main.py</code> de la rama <code>main</code>, pues los <code>if</code> en las líneas 9 y 11 deberían ser <code>elif</code>. Esto provoca que para los argumentos <code>'gato'</code> se printee <code>'miau' 'guau' 'https://www.youtube.com/watch?v=jofNR_WkoCE'</code>, en lugar de solo <code>'miau'</code>. Algo similar ocurre con el argumente <code>'perro</code>. \n",
    "\n",
    "Usando <code>git blame</code>, vemos que el error fue cometido por seba, y luego en la rama <code>fix-ifs</code> vemos el problema resuelto por Pablo Badilla, sin embargo, todavía no se ha hecho merge entre las dos ramas."
   ]
  },
  {
   "cell_type": "markdown",
   "metadata": {
    "cell_id": "f3f4e78e6d9145ebbb120c0a2e4aade6",
    "deepnote_cell_type": "markdown",
    "id": "m8J3uE7MhqTA"
   },
   "source": [
    "6. Busque los siguientes `commit`:\n",
    "\n",
    "- `c8b1a62d7299552b0654f930d695b33109214111`\n",
    "- `362fe21ee44f53ee944cee4ba484600308f83d78`\n",
    "- `25543a3baf77292baf849726784ca005473acab1`\n",
    "\n",
    "¿Qué diferencias existen entre cada uno? (0.25 pts)"
   ]
  },
  {
   "cell_type": "markdown",
   "metadata": {
    "cell_id": "696ed361ac0c41c8a214cfad9dcb39e6",
    "deepnote_cell_type": "markdown",
    "id": "sNHnZsgIitGh"
   },
   "source": [
    "<code>Escriba sus respuestas acá:</code>\n",
    "\n",
    "Ejecutamos el comando <code>git show commit_hash</code> para ver los commits. Los commits fueron realizados por autores diferentes, el primer commit fue realizado por seba en el cual se implementa la función <code>animales</code> en el archivo y se quita un comentario donde se llama a la función recién definida. en el archivo <code>main.py</code>. El segundo commit fue realizado por mezosky en el cual se elimina la función <code>animales</code> de <code>main.py</code> y se implementa en otro módulo <code>animales.py</code>, de forma que en <code>main.py</code> solo este el programa principal y se llamen a los módulos necesarios. El tercer commit fue realizado por Pablo Badilla en el cual se modifica la  función <code>animales</code> arreglando los errores vistos en la parte anterior (5.)"
   ]
  },
  {
   "cell_type": "markdown",
   "metadata": {
    "cell_id": "b4e18f8ce94c430f85915c4e2732d05b",
    "deepnote_cell_type": "markdown",
    "id": "WQIPbfNCgpxC"
   },
   "source": [
    "7. Realice una `merge` de la rama `fix-ifs` con la rama `main` y describa lo que ocurre. ¿Qué parte del código podría estar ocasionando esto? (0.25 pts)"
   ]
  },
  {
   "cell_type": "markdown",
   "metadata": {
    "cell_id": "36da6a0d4f4a427bbccac09e2ae965fd",
    "deepnote_cell_type": "markdown",
    "id": "ypH_6lL5ioZz"
   },
   "source": [
    "<code>Escriba sus respuestas acá:</code>\n",
    "\n",
    "Al ejecutar <code>git merge origin/fix-ifs origin/main</code> obtenemos el error \n",
    "\n",
    "<code>Auto-merging main.py\n",
    "CONFLICT (content): Merge conflict in main.py\n",
    "Automatic merge failed; fix conflicts and then commit the result.\n",
    "</code>\n",
    "\n",
    "Ejecutando <code>git diff</code> vemos que la diferencia ocurre en el archivo <code>main.py</code> de la rama <code>fix-ifs</code>, donde hay líneas de código que no están presentes en el archivo de la rama <code>main</code>, esto pues se hizo la separación en módulos anteriormente, separando el código que fue modificado en un nuevo archivo <code>animales.py</code>, por lo que en la rama <code>fix-ifs</code> deberíamos hacer esta misma separación y luego intentar hacer el merge entre ambas ramas, donde en este caso se actualizaría el archivo <code>animales.py</code> de la rama <code>main</code>.\n",
    "\n",
    "Además, debemos ejecutar <code>git merge --abort</code> para cancelar el merge y resolver el conflicto."
   ]
  },
  {
   "cell_type": "markdown",
   "metadata": {
    "cell_id": "09787ab449c543479e5cc54c2a3b6c19",
    "deepnote_cell_type": "markdown",
    "id": "GYfODCjeivkU"
   },
   "source": [
    "8. Cree una rama nueva y proponga una solución al problema anterior, adjuntando el código corregido y señalando las líneas modificadas. (0.25 pts)"
   ]
  },
  {
   "cell_type": "markdown",
   "metadata": {
    "cell_id": "6d963fba3f2d4c17a4b281c7d3f4fb8b",
    "deepnote_cell_type": "markdown",
    "id": "8heBxDU9iziT"
   },
   "source": [
    "<code>Escriba sus respuestas acá:</code>\n",
    "\n",
    "Creamos una rama nueva ejecutando <code>git branch fix-ifs2</code> y accedemos a esta rama ejecutando <code>git checkout fix-ifs2</code>. En el punto anterior (7.) se explicó cómo solucionar el problema.\n",
    "\n",
    "Modificamos las líneas 9 y 11 del archivo <code>animales.py</code> cambiando los <code>if</code> por <code>elif</code>, luego ejecutamos <code>git add animales.py</code> (estando en la rama <code>fix-ifs2</code>), después ejecutamos <code>git commit \"fix-ifs\"</code> para registrar los cambios. Por último, se debería hacer <code>git push</code> para enviar los cambios al repositorio remoto (creando primero la rama en el repositorio remoto con <code>git push --set-upstream origin fix-ifs2</code>), pero en este caso no es posible al no tener acceso al repositorio."
   ]
  },
  {
   "cell_type": "markdown",
   "metadata": {
    "cell_id": "8a47d4bf8b3045d68e4f29bb449c87f1",
    "deepnote_cell_type": "markdown",
    "id": "Av8ebB9jkALO"
   },
   "source": [
    "## Fin"
   ]
  },
  {
   "cell_type": "markdown",
   "metadata": {
    "cell_id": "cec4b53942ed489f8f8b63d0e9d4f3e5",
    "deepnote_cell_type": "markdown",
    "id": "aQqZT9fSkBK8"
   },
   "source": [
    "Eso ha sido todo por ahora!! Esperamos que este laboratorio les haya gustado y servido para trabajar con `Git`. Recuerden los dias de plazo que tienen disponibles y que ante cualquier duda no duden en contactar al equipo docente. \n",
    "\n",
    "Nos vemos!! \n",
    "\n",
    "<p align=\"center\">\n",
    "  <img src=\"https://media.tenor.com/OYLdav9k9LkAAAAd/kitty-cat.gif\" width=\"350\">\n",
    "</p>\n"
   ]
  },
  {
   "cell_type": "markdown",
   "metadata": {
    "created_in_deepnote_cell": true,
    "deepnote_cell_type": "markdown"
   },
   "source": [
    "<a style='text-decoration:none;line-height:16px;display:flex;color:#5B5B62;padding:10px;justify-content:end;' href='https://deepnote.com?utm_source=created-in-deepnote-cell&projectId=87110296-876e-426f-b91d-aaf681223468' target=\"_blank\">\n",
    "<img alt='Created in deepnote.com' style='display:inline;max-height:16px;margin:0px;margin-right:7.5px;' src='data:image/svg+xml;base64,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' > </img>\n",
    "Created in <span style='font-weight:600;margin-left:4px;'>Deepnote</span></a>"
   ]
  }
 ],
 "metadata": {
  "colab": {
   "authorship_tag": "ABX9TyPLnABjPBy181zQ0xKEKCGu",
   "provenance": []
  },
  "deepnote": {},
  "deepnote_execution_queue": [],
  "deepnote_notebook_id": "62cd20d52b9a4810ada15644630456dc",
  "kernelspec": {
   "display_name": "Python 3 (ipykernel)",
   "language": "python",
   "name": "python3"
  },
  "language_info": {
   "codemirror_mode": {
    "name": "ipython",
    "version": 3
   },
   "file_extension": ".py",
   "mimetype": "text/x-python",
   "name": "python",
   "nbconvert_exporter": "python",
   "pygments_lexer": "ipython3",
   "version": "3.10.9"
  }
 },
 "nbformat": 4,
 "nbformat_minor": 1
}
